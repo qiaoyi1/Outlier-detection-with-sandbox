{
 "cells": [
  {
   "cell_type": "code",
   "execution_count": null,
   "id": "f2afb7d6",
   "metadata": {},
   "outputs": [],
   "source": [
    "import pandas as pd\n",
    "import matplotlib.pyplot as plt\n",
    "import numpy as np\n",
    "from sklearn.cluster import KMeans\n",
    "from scipy import stats\n",
    "from pyod.models.knn import KNN\n",
    "from pyod.models.lof import LOF\n",
    "from pyod.utils.data import generate_data\n",
    "import plotly.express as px\n",
    "from sklearn.ensemble import IsolationForest\n",
    "import pandas as pd\n",
    "import openpyxl\n",
    "import numpy as np\n",
    "\n",
    "df = pd.read_csv(\"newdata.csv\")\n",
    "estimator = KMeans(n_clusters=2, random_state=0)\n",
    "estimator.fit(df)\n",
    "label_pred = estimator.labels_\n",
    "df[label_pred ==1]\n",
    "\n",
    "clf_name = 'KNN'\n",
    "clf = KNN()\n",
    "clf.fit(df)\n",
    "y_train_pred = clf.labels_\n",
    "y_train_scores = clf.decision_scores_\n",
    "y_test_pred = clf.predict(df)\n",
    "y_test_scores = clf.decision_function(df)\n",
    "y_pred = pd.DataFrame(y_test_pred)\n",
    "y_scores = pd.DataFrame(y_test_scores)\n",
    "df[y_test_pred == 1]\n",
    "\n",
    "clf_name = 'LOF'\n",
    "clf = LOF()\n",
    "clf.fit(df)\n",
    "y_train_pred = clf.labels_\n",
    "y_train_scores = clf.decision_scores_\n",
    "y_test_pred = clf.predict(df)\n",
    "y_test_scores = clf.decision_function(df)\n",
    "y_pred = pd.DataFrame(y_test_pred)\n",
    "y_scores = pd.DataFrame(y_test_scores)\n",
    "df[y_test_pred == 1]\n",
    "\n",
    "data = pd.read_csv('newdata.csv')\n",
    "X = pd.read_csv('newdata.csv',usecols=['feature'])\n",
    "y = pd.read_csv('newdata.csv',usecols=['target'])\n",
    "iforest = IsolationForest(n_estimators=100, max_samples='auto',\n",
    "                         contamination='auto', max_features=9,\n",
    "                         bootstrap=False, n_jobs=-1, random_state=1)\n",
    "X = df.iloc(data['feature'])\n",
    "df = pd.DataFrame(data)\n",
    "df['label'] = iforest.fit_predict(X)\n",
    "df['scores'] = iforest.decision_function(X)"
   ]
  }
 ],
 "metadata": {
  "kernelspec": {
   "display_name": "python shixun",
   "language": "python",
   "name": "shixun"
  },
  "language_info": {
   "codemirror_mode": {
    "name": "ipython",
    "version": 3
   },
   "file_extension": ".py",
   "mimetype": "text/x-python",
   "name": "python",
   "nbconvert_exporter": "python",
   "pygments_lexer": "ipython3",
   "version": "3.7.13"
  }
 },
 "nbformat": 4,
 "nbformat_minor": 5
}
